{
  "cells": [
    {
      "cell_type": "markdown",
      "metadata": {
        "id": "view-in-github",
        "colab_type": "text"
      },
      "source": [
        "<a href=\"https://colab.research.google.com/github/NaoumM/DataScience/blob/master/week_1/Michail_Naoum_CAM_DS__C101_Activity_1_1_5.ipynb\" target=\"_parent\"><img src=\"https://colab.research.google.com/assets/colab-badge.svg\" alt=\"Open In Colab\"/></a>"
      ]
    },
    {
      "cell_type": "markdown",
      "source": [
        "**First things first** - please go to 'File' and select 'Save a copy in Drive' so that you have your own version of this activity set up and ready to use.\n",
        " Remember to update the portfolio index link to your own work once completed!"
      ],
      "metadata": {
        "id": "QXcaLNTZYOhZ"
      }
    },
    {
      "cell_type": "markdown",
      "source": [
        "# Activity 1.1.5: Using statistical thinking to analyse and define a business problem from a given scenario\n",
        "\n",
        "## Scenario\n",
        "**Communik8** is a telecommunications company with both online and physical stores. It provides mobile contracts and sells handsets. Recently, the company has experienced a sizeable reduction in new customers and a decrease in the retention of existing customers.\n",
        "\n",
        "With the primary goal of improving business performance, the company needs to identify critical reasons for this recent decline. The company would like to make sense of its customer data and transform it into actionable insights.\n",
        "\n",
        "The management team at Communik8 has provided recent customer feedback to your team of data scientists and would like initial feedback on the main issues that can be identified from this data.\n",
        "\n",
        "## Objective\n",
        "The goal is to explore and analyse an organisational scenario to identify key problems.\n",
        "\n",
        "## Assessment criteria\n",
        "By completing this activity, you will be able to provide evidence that you can:\n",
        "* Note common themes and sentiments expressed by customers without performing any in-depth analysis.\n",
        "* Formulate your own business problem statement.\n",
        "\n",
        "\n",
        "## Activity guide\n",
        "1. Analyse the customer comments and categorise the comments into themes (e.g.  customer service, delivery, billing and payment, and so on).\n",
        "2. Using the themes you identified as guidance, define the problems Communik8's customers are experiencing (e.g. delays in delivery, website functionality, and so on).\n",
        "3. Identify how solving these problems will help the company achieve its objectives and goals and outline the consequences of not achieving these goals (e.g. improved customer satisfaction, customer retention, loss of revenue, and so on).\n",
        "4. Write a problem statement based on the themes, problems, and solutions you identified.\n",
        "\n",
        "* What challenges did you face when completing this activity?\n",
        "* In one sentence, what was your key learning from this activity?"
      ],
      "metadata": {
        "id": "ltwXKT0TCvf6"
      }
    },
    {
      "cell_type": "markdown",
      "source": [],
      "metadata": {
        "id": "iOyAqzuqWqMj"
      }
    },
    {
      "cell_type": "markdown",
      "source": [
        "\n",
        "\n",
        "\n",
        "1.\n",
        "Common Themes from Customer Comments\n",
        "The feedback reveals several recurring themes that highlight major customer dissatisfaction:\n",
        "\n",
        "*Customer Service Issues*\n",
        "- Long wait times for support.\n",
        "- Poor and unhelpful customer service interactions.\n",
        "- Unresolved complaints and lack of response.\n",
        "\n",
        "*Delivery & Order Fulfillment*\n",
        "- Delayed handset deliveries despite promised timelines.\n",
        "- Cancellations due to unmet delivery expectations.\n",
        "\n",
        "*Website & Digital Experience*\n",
        "- Poor website usability and functionality\n",
        "- Ineffective chatbot with irrelevant and unhelpful responses.\n",
        "\n",
        "*Network Coverage Problems*\n",
        "- Weak signal and connectivity issues in some areas\n",
        "- Unreliable mobile internet.\n",
        "\n",
        "*In-Store Customer Experience*\n",
        "- Rude and unprofessional staff behavior in physical stores.\n",
        "\n",
        "*Billing & Contract Disputes*\n",
        "- Incorrect charges and double billing.\n",
        "- Issues with contract cancellations and misleading contract terms.\n",
        "\n",
        "-------------------\n",
        "\n",
        "2.\n",
        "Business Problems Identified\n",
        "\n",
        "Inefficient Customer Service:\n",
        "- Leads to customer frustration, unresolved complaints, and negative brand perception.\n",
        "\n",
        "Delivery & Logistics Failures:\n",
        "- Causes dissatisfaction and order cancellations, reducing revenue.\n",
        "\n",
        "Poor Digital Customer Experience:\n",
        "- Results in frustration for customers trying to self-serve online.\n",
        "\n",
        "Poor Network Coverage:\n",
        "- Customers unable to use the service effectively, leading to cancellations.\n",
        "\n",
        "Negative In-Store Interactions:\n",
        "- Discourages existing and potential customers from engaging with physical stores.\n",
        "\n",
        "Billing & Contract Transparency Issues:\n",
        "- Causes financial disputes, loss of trust, and loos of customers.\n",
        "\n",
        "-------------------\n",
        "\n",
        "3.\n",
        "Business Impact and Consequences:\n",
        "\n",
        "Solving these problems will help Communik8:\n",
        "- Improve customer satisfaction and brand reputation.\n",
        "- Increase customer retention and loyalty.\n",
        "- Enhance online engagement and service efficiency.\n",
        "- Reduce cancellations and refund claims.\n",
        "- Minimize financial disputes and legal risks.\n",
        "\n",
        "Failure to address these issues will result in:\n",
        "- Continued decline in customer base and revenue.\n",
        "- Negative word-of-mouth damaging brand reputation.\n",
        "- Increased regulatory scrutiny for billing and contract issues.\n",
        "- Loss of competitive edge to rival telecom providers.\n",
        "\n",
        "-------------------\n",
        "\n",
        "4.\n",
        "Communik8 is experiencing declining customer acquisition and retention due to widespread dissatisfaction with customer service, delayed deliveries, poor digital experiences, network coverage issues, in-store service problems, and billing disputes. To regain trust and business growth, the company must enhance customer support, optimize logistics, improve digital and in-store experiences, and ensure transparent billing practices.\n",
        "\n",
        "-------------------\n",
        "\n",
        "Challenges:\n",
        "- Lack of structured data: Unstructured feedback made it challenging to quantify issue frequency.\n",
        "\n",
        "-------------------\n",
        "\n",
        "Key Learning:\n",
        "- Customer experience is the single most important factor in business success, and ignoring customer pain points leads to brand decline and revenue loss.\n"
      ],
      "metadata": {
        "id": "qE2gU4Q1an1j"
      }
    },
    {
      "cell_type": "markdown",
      "source": [
        "# Reflect\n",
        "\n",
        "Write a brief paragraph highlighting your process and the rationale to showcase critical thinking and problem-solving.\n",
        "\n",
        "> To analyze the customer feedback effectively, I first categorized the comments into key themes such as customer service, delivery, website functionality, network coverage, in-store experience, and billing disputes so I\n",
        " could identify recurring issues. This approach helped me to find main reasosons finding difficult to keep existing customers and singing up new. By linking each problem to its business impact, I found how these issues affect revenue, brand reputation, and customer trust. I then wrote a problem statement to guide actionable solutions."
      ],
      "metadata": {
        "id": "txtht85QD0Zq"
      }
    },
    {
      "cell_type": "code",
      "source": [],
      "metadata": {
        "id": "MvY-sHTvEsxj"
      },
      "execution_count": null,
      "outputs": []
    }
  ],
  "metadata": {
    "colab": {
      "provenance": [],
      "include_colab_link": true
    },
    "kernelspec": {
      "display_name": "Python 3",
      "name": "python3"
    }
  },
  "nbformat": 4,
  "nbformat_minor": 0
}