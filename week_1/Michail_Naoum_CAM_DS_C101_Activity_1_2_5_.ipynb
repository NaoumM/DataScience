{
  "nbformat": 4,
  "nbformat_minor": 0,
  "metadata": {
    "colab": {
      "provenance": [],
      "collapsed_sections": [
        "cePfKzcYOpLB"
      ]
    },
    "kernelspec": {
      "name": "python3",
      "display_name": "Python 3"
    },
    "language_info": {
      "name": "python"
    }
  },
  "cells": [
    {
      "cell_type": "markdown",
      "source": [
        " **First things first** - please go to 'File' and select 'Save a copy in Drive' so that you have your own version of this activity set up and ready to use.\n",
        "\n",
        "Remember to update your Course 1 notebook with links to your own work once completed!"
      ],
      "metadata": {
        "id": "QXcaLNTZYOhZ"
      }
    },
    {
      "cell_type": "markdown",
      "source": [
        "# Activity 1.2.5: Using feature engineering as a problem-solving tool\n",
        "\n",
        "## Scenario\n",
        "As you know, **Communik8** has experienced a reduction in both new and existing customers. The Head of Sales has suggested that an analysis of customer behaviour might provide insight into the reason(s) why. To this end, the company has provided you with a list of metrics, or features, from its data to help identify factors influencing customer behaviour. Think about your own experiences as a customer and what factors might influence how, what, and when you purchase something from a vendor. For example:\n",
        "- Customer age\n",
        "- Purchase amount\n",
        "- Location\n",
        "- Loyalty membership\n",
        "- Conversion rate\n",
        "- Gender\n",
        "- Products purchased\n",
        "- Website traffic\n",
        "- Average shipping time\n",
        "- Gross profit margin\n",
        "- Repeat purchase rate\n",
        "- Cart abandonment rate\n",
        "- Inventory turnover rate\n",
        "- Customer support response time\n",
        "- Customer satisfaction score\n",
        "\n",
        "\n",
        "## Objective\n",
        "Identify features that influence customer behaviour and provide justification for your choices. In your notebook, you will:\n",
        "\n",
        "- Reflect on and identify five to seven features that you think will provide the best insights into customer behaviour.\n",
        "- Provide a rationale for why you chose these features.\n",
        "\n",
        "\n",
        "\n",
        "## Assessment criteria\n",
        "By completing this activity, you will be able to provide evidence that you can:\n",
        "- Apply critical insights to a problem.\n",
        "- Efficiently solve problems by combining real-world organisational problem(s) with data.\n",
        "\n",
        "\n",
        "## Activity guide\n",
        "1. Consider the list of features provided by Communik8.\n",
        "2. Reflect on and identify five to seven features you think will provide the best insights into customer behaviour.\n",
        "3. Document these features, followed by a rationale for each feature.\n",
        "4. Complete the reflection on this activity in your portfolio.\n"
      ],
      "metadata": {
        "id": "cePfKzcYOpLB"
      }
    },
    {
      "cell_type": "markdown",
      "source": [
        "**Customer Satisfaction Score**\n",
        "\n",
        "- Measures how happy customers are with products, services, and support.\n",
        "- Low scores indicate poor customer experiences, leading to reduced retention.\n",
        "\n",
        "**Repeat Purchase Rate**\n",
        "\n",
        "- Shows how often customers return to buy again.\n",
        "- A declining rate suggests a loss of customer trust or satisfaction.\n",
        "\n",
        "**Cart Abandonment Rate**\n",
        "\n",
        "- Identifies how many customers leave items in their cart without completing a purchase.\n",
        "- High abandonment rates could indicate pricing issues, website problems, or lack of trust.\n",
        "\n",
        "**Customer Support Response Time**\n",
        "\n",
        "- Measures how quickly customer inquiries and complaints are addressed.\n",
        "- Slow response times often lead to frustration and increased churn rates.\n",
        "\n",
        "**Website Traffic & Conversion Rate**\n",
        "\n",
        "- Tracks how many visitors come to the website and how many actually make a purchase.\n",
        "- A drop in conversions may indicate issues with pricing, usability, or product selection.\n",
        "\n",
        "**Average Shipping Time**\n",
        "\n",
        "- Impacts customer satisfaction, especially if delivery is delayed beyond promised timelines.\n",
        "- Long shipping times may push customers toward competitors with faster delivery.\n",
        "\n",
        "**Loyalty Membership Status**\n",
        "\n",
        "- Identifies whether customers enrolled in loyalty programs are more engaged and return for purchases.\n",
        "- A decline in loyalty participation could indicate reduced perceived value from the company.\n",
        "\n",
        "**Why these Features:**\n",
        "\n",
        "These metrics provide direct insights into customer engagement, satisfaction, and purchasing behavior.\n",
        "A decline in satisfaction, repeat purchases, and conversions signals potential reasons for reduced retention.\n",
        "High cart abandonment, slow response times, and delayed shipping can directly impact sales and trust.\n",
        "\n"
      ],
      "metadata": {
        "id": "txtht85QD0Zq"
      }
    },
    {
      "cell_type": "markdown",
      "source": [
        "# Reflect\n",
        "\n",
        "Write a brief paragraph highlighting your process and the rationale to showcase critical thinking and problem-solving.\n",
        "\n",
        "To identify key features influencing customer behavior, I first considered common reasons why customers stop engaging with a brand, such as poor service, long wait times, or unmet expectations. I then selected seven critical metrics—including customer satisfaction, repeat purchase rate, and cart abandonment rate—that provide measurable insights into these behaviors. My rationale was to choose features that directly impact retention, conversions, and overall customer experience."
      ],
      "metadata": {
        "id": "lUXX1q1IdSNr"
      }
    }
  ]
}